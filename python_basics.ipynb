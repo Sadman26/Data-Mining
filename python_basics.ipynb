{
  "nbformat": 4,
  "nbformat_minor": 0,
  "metadata": {
    "colab": {
      "provenance": [],
      "authorship_tag": "ABX9TyMTzNSQEb6am5WIgLJHRhFD",
      "include_colab_link": true
    },
    "kernelspec": {
      "name": "python3",
      "display_name": "Python 3"
    },
    "language_info": {
      "name": "python"
    }
  },
  "cells": [
    {
      "cell_type": "markdown",
      "metadata": {
        "id": "view-in-github",
        "colab_type": "text"
      },
      "source": [
        "<a href=\"https://colab.research.google.com/github/Sadman26/Data-Mining/blob/main/python_basics.ipynb\" target=\"_parent\"><img src=\"https://colab.research.google.com/assets/colab-badge.svg\" alt=\"Open In Colab\"/></a>"
      ]
    },
    {
      "cell_type": "markdown",
      "source": [
        "**For loop**"
      ],
      "metadata": {
        "id": "wHMpZwa2rY-B"
      }
    },
    {
      "cell_type": "code",
      "execution_count": 2,
      "metadata": {
        "colab": {
          "base_uri": "https://localhost:8080/"
        },
        "id": "n952nBlrrU8q",
        "outputId": "f8406171-fcd3-46dd-f430-f8e811e0571c"
      },
      "outputs": [
        {
          "output_type": "stream",
          "name": "stdout",
          "text": [
            "0 1 2 3 4 5 6 7 8 9 10 11 12 13 14 15 16 17 18 19 "
          ]
        }
      ],
      "source": [
        "for i in range(20):\n",
        "  print(i,end=' ')"
      ]
    },
    {
      "cell_type": "markdown",
      "source": [
        "**If else**"
      ],
      "metadata": {
        "id": "1TSWVJiars0S"
      }
    },
    {
      "cell_type": "code",
      "source": [
        "age=int(input('Enter Age: '))\n",
        "if(age>=18):\n",
        "  print('You are Adult')\n",
        "else:\n",
        "   print('You are Kid')"
      ],
      "metadata": {
        "colab": {
          "base_uri": "https://localhost:8080/"
        },
        "id": "xRJZ_yXPrz_4",
        "outputId": "6628cec9-6998-4d62-b866-1d23460bd238"
      },
      "execution_count": 3,
      "outputs": [
        {
          "output_type": "stream",
          "name": "stdout",
          "text": [
            "Enter Age: 22\n",
            "You are Adult\n"
          ]
        }
      ]
    },
    {
      "cell_type": "markdown",
      "source": [
        "**Function**"
      ],
      "metadata": {
        "id": "w8r0eBWev8ii"
      }
    },
    {
      "cell_type": "code",
      "source": [
        "def sayhi():\n",
        "  print('Hello World')\n",
        "  print('Bye World')\n",
        "sayhi()"
      ],
      "metadata": {
        "colab": {
          "base_uri": "https://localhost:8080/"
        },
        "id": "G4ms9d9msURU",
        "outputId": "c66406e2-dedd-49bf-a73e-d06efc571d3e"
      },
      "execution_count": 5,
      "outputs": [
        {
          "output_type": "stream",
          "name": "stdout",
          "text": [
            "Hello World\n",
            "Bye World\n"
          ]
        }
      ]
    },
    {
      "cell_type": "markdown",
      "source": [
        "**While loop**"
      ],
      "metadata": {
        "id": "n9ZBzidmwA__"
      }
    },
    {
      "cell_type": "code",
      "source": [
        "i=0\n",
        "while(i<=20):\n",
        "  print(i,end=' ')\n",
        "  i=i+1"
      ],
      "metadata": {
        "colab": {
          "base_uri": "https://localhost:8080/"
        },
        "id": "_mZNF6nKwXNg",
        "outputId": "1fc46e13-0054-4bb6-9d80-1e072eaa8116"
      },
      "execution_count": 7,
      "outputs": [
        {
          "output_type": "stream",
          "name": "stdout",
          "text": [
            "0 1 2 3 4 5 6 7 8 9 10 11 12 13 14 15 16 17 18 19 20 "
          ]
        }
      ]
    }
  ]
}